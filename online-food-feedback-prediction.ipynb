{
 "cells": [
  {
   "cell_type": "markdown",
   "id": "984f5fa0",
   "metadata": {
    "papermill": {
     "duration": 0.012051,
     "end_time": "2024-03-15T16:30:20.548350",
     "exception": false,
     "start_time": "2024-03-15T16:30:20.536299",
     "status": "completed"
    },
    "tags": []
   },
   "source": [
    "<h3>Importing Libraries</h3>"
   ]
  },
  {
   "cell_type": "code",
   "execution_count": 1,
   "id": "f22c3e71",
   "metadata": {
    "execution": {
     "iopub.execute_input": "2024-03-15T16:30:20.571874Z",
     "iopub.status.busy": "2024-03-15T16:30:20.571000Z",
     "iopub.status.idle": "2024-03-15T16:30:22.962516Z",
     "shell.execute_reply": "2024-03-15T16:30:22.961456Z"
    },
    "papermill": {
     "duration": 2.406544,
     "end_time": "2024-03-15T16:30:22.965365",
     "exception": false,
     "start_time": "2024-03-15T16:30:20.558821",
     "status": "completed"
    },
    "tags": []
   },
   "outputs": [],
   "source": [
    "import pandas as pd\n",
    "import numpy as np\n",
    "import matplotlib.pyplot as plt\n",
    "from sklearn.preprocessing import LabelEncoder\n",
    "from sklearn.model_selection import train_test_split\n",
    "from sklearn.naive_bayes import GaussianNB\n",
    "from sklearn.multioutput import MultiOutputClassifier\n",
    "from sklearn.metrics import confusion_matrix,accuracy_score,classification_report"
   ]
  },
  {
   "cell_type": "markdown",
   "id": "1bb227e1",
   "metadata": {
    "papermill": {
     "duration": 0.010109,
     "end_time": "2024-03-15T16:30:22.986236",
     "exception": false,
     "start_time": "2024-03-15T16:30:22.976127",
     "status": "completed"
    },
    "tags": []
   },
   "source": [
    "<h3>Data Cleaning</h3>"
   ]
  },
  {
   "cell_type": "markdown",
   "id": "5217ef2b",
   "metadata": {
    "papermill": {
     "duration": 0.012687,
     "end_time": "2024-03-15T16:30:23.010057",
     "exception": false,
     "start_time": "2024-03-15T16:30:22.997370",
     "status": "completed"
    },
    "tags": []
   },
   "source": [
    "<h4>Importing Data</h4"
   ]
  },
  {
   "cell_type": "code",
   "execution_count": 2,
   "id": "14543be3",
   "metadata": {
    "execution": {
     "iopub.execute_input": "2024-03-15T16:30:23.033638Z",
     "iopub.status.busy": "2024-03-15T16:30:23.033062Z",
     "iopub.status.idle": "2024-03-15T16:30:23.057028Z",
     "shell.execute_reply": "2024-03-15T16:30:23.056017Z"
    },
    "papermill": {
     "duration": 0.038726,
     "end_time": "2024-03-15T16:30:23.059803",
     "exception": false,
     "start_time": "2024-03-15T16:30:23.021077",
     "status": "completed"
    },
    "tags": []
   },
   "outputs": [],
   "source": [
    "data=pd.read_csv('./onlinefoods.csv')"
   ]
  },
  {
   "cell_type": "code",
   "execution_count": 3,
   "id": "e6dbeeb4",
   "metadata": {
    "execution": {
     "iopub.execute_input": "2024-03-15T16:30:23.083219Z",
     "iopub.status.busy": "2024-03-15T16:30:23.082540Z",
     "iopub.status.idle": "2024-03-15T16:30:23.107903Z",
     "shell.execute_reply": "2024-03-15T16:30:23.106686Z"
    },
    "papermill": {
     "duration": 0.040009,
     "end_time": "2024-03-15T16:30:23.110452",
     "exception": false,
     "start_time": "2024-03-15T16:30:23.070443",
     "status": "completed"
    },
    "tags": []
   },
   "outputs": [
    {
     "data": {
      "text/html": [
       "<div>\n",
       "<style scoped>\n",
       "    .dataframe tbody tr th:only-of-type {\n",
       "        vertical-align: middle;\n",
       "    }\n",
       "\n",
       "    .dataframe tbody tr th {\n",
       "        vertical-align: top;\n",
       "    }\n",
       "\n",
       "    .dataframe thead th {\n",
       "        text-align: right;\n",
       "    }\n",
       "</style>\n",
       "<table border=\"1\" class=\"dataframe\">\n",
       "  <thead>\n",
       "    <tr style=\"text-align: right;\">\n",
       "      <th></th>\n",
       "      <th>Age</th>\n",
       "      <th>Gender</th>\n",
       "      <th>Marital Status</th>\n",
       "      <th>Occupation</th>\n",
       "      <th>Monthly Income</th>\n",
       "      <th>Educational Qualifications</th>\n",
       "      <th>Family size</th>\n",
       "      <th>latitude</th>\n",
       "      <th>longitude</th>\n",
       "      <th>Pin code</th>\n",
       "      <th>Output</th>\n",
       "      <th>Feedback</th>\n",
       "      <th>Unnamed: 12</th>\n",
       "    </tr>\n",
       "  </thead>\n",
       "  <tbody>\n",
       "    <tr>\n",
       "      <th>0</th>\n",
       "      <td>20</td>\n",
       "      <td>Female</td>\n",
       "      <td>Single</td>\n",
       "      <td>Student</td>\n",
       "      <td>No Income</td>\n",
       "      <td>Post Graduate</td>\n",
       "      <td>4</td>\n",
       "      <td>12.9766</td>\n",
       "      <td>77.5993</td>\n",
       "      <td>560001</td>\n",
       "      <td>Yes</td>\n",
       "      <td>Positive</td>\n",
       "      <td>Yes</td>\n",
       "    </tr>\n",
       "    <tr>\n",
       "      <th>1</th>\n",
       "      <td>24</td>\n",
       "      <td>Female</td>\n",
       "      <td>Single</td>\n",
       "      <td>Student</td>\n",
       "      <td>Below Rs.10000</td>\n",
       "      <td>Graduate</td>\n",
       "      <td>3</td>\n",
       "      <td>12.9770</td>\n",
       "      <td>77.5773</td>\n",
       "      <td>560009</td>\n",
       "      <td>Yes</td>\n",
       "      <td>Positive</td>\n",
       "      <td>Yes</td>\n",
       "    </tr>\n",
       "    <tr>\n",
       "      <th>2</th>\n",
       "      <td>22</td>\n",
       "      <td>Male</td>\n",
       "      <td>Single</td>\n",
       "      <td>Student</td>\n",
       "      <td>Below Rs.10000</td>\n",
       "      <td>Post Graduate</td>\n",
       "      <td>3</td>\n",
       "      <td>12.9551</td>\n",
       "      <td>77.6593</td>\n",
       "      <td>560017</td>\n",
       "      <td>Yes</td>\n",
       "      <td>Negative</td>\n",
       "      <td>Yes</td>\n",
       "    </tr>\n",
       "    <tr>\n",
       "      <th>3</th>\n",
       "      <td>22</td>\n",
       "      <td>Female</td>\n",
       "      <td>Single</td>\n",
       "      <td>Student</td>\n",
       "      <td>No Income</td>\n",
       "      <td>Graduate</td>\n",
       "      <td>6</td>\n",
       "      <td>12.9473</td>\n",
       "      <td>77.5616</td>\n",
       "      <td>560019</td>\n",
       "      <td>Yes</td>\n",
       "      <td>Positive</td>\n",
       "      <td>Yes</td>\n",
       "    </tr>\n",
       "    <tr>\n",
       "      <th>4</th>\n",
       "      <td>22</td>\n",
       "      <td>Male</td>\n",
       "      <td>Single</td>\n",
       "      <td>Student</td>\n",
       "      <td>Below Rs.10000</td>\n",
       "      <td>Post Graduate</td>\n",
       "      <td>4</td>\n",
       "      <td>12.9850</td>\n",
       "      <td>77.5533</td>\n",
       "      <td>560010</td>\n",
       "      <td>Yes</td>\n",
       "      <td>Positive</td>\n",
       "      <td>Yes</td>\n",
       "    </tr>\n",
       "  </tbody>\n",
       "</table>\n",
       "</div>"
      ],
      "text/plain": [
       "   Age  Gender Marital Status Occupation  Monthly Income  \\\n",
       "0   20  Female         Single    Student       No Income   \n",
       "1   24  Female         Single    Student  Below Rs.10000   \n",
       "2   22    Male         Single    Student  Below Rs.10000   \n",
       "3   22  Female         Single    Student       No Income   \n",
       "4   22    Male         Single    Student  Below Rs.10000   \n",
       "\n",
       "  Educational Qualifications  Family size  latitude  longitude  Pin code  \\\n",
       "0              Post Graduate            4   12.9766    77.5993    560001   \n",
       "1                   Graduate            3   12.9770    77.5773    560009   \n",
       "2              Post Graduate            3   12.9551    77.6593    560017   \n",
       "3                   Graduate            6   12.9473    77.5616    560019   \n",
       "4              Post Graduate            4   12.9850    77.5533    560010   \n",
       "\n",
       "  Output   Feedback Unnamed: 12  \n",
       "0    Yes   Positive         Yes  \n",
       "1    Yes   Positive         Yes  \n",
       "2    Yes  Negative          Yes  \n",
       "3    Yes   Positive         Yes  \n",
       "4    Yes   Positive         Yes  "
      ]
     },
     "execution_count": 3,
     "metadata": {},
     "output_type": "execute_result"
    }
   ],
   "source": [
    "data.head()"
   ]
  },
  {
   "cell_type": "code",
   "execution_count": 4,
   "id": "943dbd24",
   "metadata": {
    "execution": {
     "iopub.execute_input": "2024-03-15T16:30:23.134479Z",
     "iopub.status.busy": "2024-03-15T16:30:23.133752Z",
     "iopub.status.idle": "2024-03-15T16:30:23.145619Z",
     "shell.execute_reply": "2024-03-15T16:30:23.144155Z"
    },
    "papermill": {
     "duration": 0.027167,
     "end_time": "2024-03-15T16:30:23.148285",
     "exception": false,
     "start_time": "2024-03-15T16:30:23.121118",
     "status": "completed"
    },
    "tags": []
   },
   "outputs": [],
   "source": [
    "data.drop('Unnamed: 12',axis=1,inplace=True)"
   ]
  },
  {
   "cell_type": "code",
   "execution_count": 5,
   "id": "8f97954c",
   "metadata": {
    "execution": {
     "iopub.execute_input": "2024-03-15T16:30:23.172105Z",
     "iopub.status.busy": "2024-03-15T16:30:23.171440Z",
     "iopub.status.idle": "2024-03-15T16:30:23.199729Z",
     "shell.execute_reply": "2024-03-15T16:30:23.198781Z"
    },
    "papermill": {
     "duration": 0.043101,
     "end_time": "2024-03-15T16:30:23.202181",
     "exception": false,
     "start_time": "2024-03-15T16:30:23.159080",
     "status": "completed"
    },
    "tags": []
   },
   "outputs": [
    {
     "data": {
      "text/html": [
       "<div>\n",
       "<style scoped>\n",
       "    .dataframe tbody tr th:only-of-type {\n",
       "        vertical-align: middle;\n",
       "    }\n",
       "\n",
       "    .dataframe tbody tr th {\n",
       "        vertical-align: top;\n",
       "    }\n",
       "\n",
       "    .dataframe thead th {\n",
       "        text-align: right;\n",
       "    }\n",
       "</style>\n",
       "<table border=\"1\" class=\"dataframe\">\n",
       "  <thead>\n",
       "    <tr style=\"text-align: right;\">\n",
       "      <th></th>\n",
       "      <th>Age</th>\n",
       "      <th>Family size</th>\n",
       "      <th>latitude</th>\n",
       "      <th>longitude</th>\n",
       "      <th>Pin code</th>\n",
       "    </tr>\n",
       "  </thead>\n",
       "  <tbody>\n",
       "    <tr>\n",
       "      <th>count</th>\n",
       "      <td>388.000000</td>\n",
       "      <td>388.000000</td>\n",
       "      <td>388.000000</td>\n",
       "      <td>388.000000</td>\n",
       "      <td>388.000000</td>\n",
       "    </tr>\n",
       "    <tr>\n",
       "      <th>mean</th>\n",
       "      <td>24.628866</td>\n",
       "      <td>3.280928</td>\n",
       "      <td>12.972058</td>\n",
       "      <td>77.600160</td>\n",
       "      <td>560040.113402</td>\n",
       "    </tr>\n",
       "    <tr>\n",
       "      <th>std</th>\n",
       "      <td>2.975593</td>\n",
       "      <td>1.351025</td>\n",
       "      <td>0.044489</td>\n",
       "      <td>0.051354</td>\n",
       "      <td>31.399609</td>\n",
       "    </tr>\n",
       "    <tr>\n",
       "      <th>min</th>\n",
       "      <td>18.000000</td>\n",
       "      <td>1.000000</td>\n",
       "      <td>12.865200</td>\n",
       "      <td>77.484200</td>\n",
       "      <td>560001.000000</td>\n",
       "    </tr>\n",
       "    <tr>\n",
       "      <th>25%</th>\n",
       "      <td>23.000000</td>\n",
       "      <td>2.000000</td>\n",
       "      <td>12.936900</td>\n",
       "      <td>77.565275</td>\n",
       "      <td>560010.750000</td>\n",
       "    </tr>\n",
       "    <tr>\n",
       "      <th>50%</th>\n",
       "      <td>24.000000</td>\n",
       "      <td>3.000000</td>\n",
       "      <td>12.977000</td>\n",
       "      <td>77.592100</td>\n",
       "      <td>560033.500000</td>\n",
       "    </tr>\n",
       "    <tr>\n",
       "      <th>75%</th>\n",
       "      <td>26.000000</td>\n",
       "      <td>4.000000</td>\n",
       "      <td>12.997025</td>\n",
       "      <td>77.630900</td>\n",
       "      <td>560068.000000</td>\n",
       "    </tr>\n",
       "    <tr>\n",
       "      <th>max</th>\n",
       "      <td>33.000000</td>\n",
       "      <td>6.000000</td>\n",
       "      <td>13.102000</td>\n",
       "      <td>77.758200</td>\n",
       "      <td>560109.000000</td>\n",
       "    </tr>\n",
       "  </tbody>\n",
       "</table>\n",
       "</div>"
      ],
      "text/plain": [
       "              Age  Family size    latitude   longitude       Pin code\n",
       "count  388.000000   388.000000  388.000000  388.000000     388.000000\n",
       "mean    24.628866     3.280928   12.972058   77.600160  560040.113402\n",
       "std      2.975593     1.351025    0.044489    0.051354      31.399609\n",
       "min     18.000000     1.000000   12.865200   77.484200  560001.000000\n",
       "25%     23.000000     2.000000   12.936900   77.565275  560010.750000\n",
       "50%     24.000000     3.000000   12.977000   77.592100  560033.500000\n",
       "75%     26.000000     4.000000   12.997025   77.630900  560068.000000\n",
       "max     33.000000     6.000000   13.102000   77.758200  560109.000000"
      ]
     },
     "execution_count": 5,
     "metadata": {},
     "output_type": "execute_result"
    }
   ],
   "source": [
    "data.describe()"
   ]
  },
  {
   "cell_type": "code",
   "execution_count": 6,
   "id": "c2e76300",
   "metadata": {
    "execution": {
     "iopub.execute_input": "2024-03-15T16:30:23.226571Z",
     "iopub.status.busy": "2024-03-15T16:30:23.225842Z",
     "iopub.status.idle": "2024-03-15T16:30:23.252058Z",
     "shell.execute_reply": "2024-03-15T16:30:23.249969Z"
    },
    "papermill": {
     "duration": 0.041653,
     "end_time": "2024-03-15T16:30:23.254933",
     "exception": false,
     "start_time": "2024-03-15T16:30:23.213280",
     "status": "completed"
    },
    "tags": []
   },
   "outputs": [
    {
     "name": "stdout",
     "output_type": "stream",
     "text": [
      "<class 'pandas.core.frame.DataFrame'>\n",
      "RangeIndex: 388 entries, 0 to 387\n",
      "Data columns (total 12 columns):\n",
      " #   Column                      Non-Null Count  Dtype  \n",
      "---  ------                      --------------  -----  \n",
      " 0   Age                         388 non-null    int64  \n",
      " 1   Gender                      388 non-null    object \n",
      " 2   Marital Status              388 non-null    object \n",
      " 3   Occupation                  388 non-null    object \n",
      " 4   Monthly Income              388 non-null    object \n",
      " 5   Educational Qualifications  388 non-null    object \n",
      " 6   Family size                 388 non-null    int64  \n",
      " 7   latitude                    388 non-null    float64\n",
      " 8   longitude                   388 non-null    float64\n",
      " 9   Pin code                    388 non-null    int64  \n",
      " 10  Output                      388 non-null    object \n",
      " 11  Feedback                    388 non-null    object \n",
      "dtypes: float64(2), int64(3), object(7)\n",
      "memory usage: 36.5+ KB\n"
     ]
    }
   ],
   "source": [
    "data.info()"
   ]
  },
  {
   "cell_type": "code",
   "execution_count": 7,
   "id": "7454cdb9",
   "metadata": {
    "execution": {
     "iopub.execute_input": "2024-03-15T16:30:23.280121Z",
     "iopub.status.busy": "2024-03-15T16:30:23.279268Z",
     "iopub.status.idle": "2024-03-15T16:30:23.286058Z",
     "shell.execute_reply": "2024-03-15T16:30:23.284603Z"
    },
    "papermill": {
     "duration": 0.022207,
     "end_time": "2024-03-15T16:30:23.288628",
     "exception": false,
     "start_time": "2024-03-15T16:30:23.266421",
     "status": "completed"
    },
    "tags": []
   },
   "outputs": [
    {
     "data": {
      "text/plain": [
       "(388, 12)"
      ]
     },
     "execution_count": 7,
     "metadata": {},
     "output_type": "execute_result"
    }
   ],
   "source": [
    "data.shape"
   ]
  },
  {
   "cell_type": "markdown",
   "id": "123d9f44",
   "metadata": {
    "papermill": {
     "duration": 0.010821,
     "end_time": "2024-03-15T16:30:23.311275",
     "exception": false,
     "start_time": "2024-03-15T16:30:23.300454",
     "status": "completed"
    },
    "tags": []
   },
   "source": [
    "<h4>Checking unique values of the attributes</h4>"
   ]
  },
  {
   "cell_type": "code",
   "execution_count": 8,
   "id": "b3d7b6d2",
   "metadata": {
    "execution": {
     "iopub.execute_input": "2024-03-15T16:30:23.336119Z",
     "iopub.status.busy": "2024-03-15T16:30:23.335641Z",
     "iopub.status.idle": "2024-03-15T16:30:23.343331Z",
     "shell.execute_reply": "2024-03-15T16:30:23.342193Z"
    },
    "papermill": {
     "duration": 0.023203,
     "end_time": "2024-03-15T16:30:23.345705",
     "exception": false,
     "start_time": "2024-03-15T16:30:23.322502",
     "status": "completed"
    },
    "tags": []
   },
   "outputs": [
    {
     "data": {
      "text/plain": [
       "array(['Female', 'Male'], dtype=object)"
      ]
     },
     "execution_count": 8,
     "metadata": {},
     "output_type": "execute_result"
    }
   ],
   "source": [
    "data.Gender.unique()"
   ]
  },
  {
   "cell_type": "code",
   "execution_count": 9,
   "id": "eae13ff9",
   "metadata": {
    "execution": {
     "iopub.execute_input": "2024-03-15T16:30:23.371115Z",
     "iopub.status.busy": "2024-03-15T16:30:23.370679Z",
     "iopub.status.idle": "2024-03-15T16:30:23.377642Z",
     "shell.execute_reply": "2024-03-15T16:30:23.376774Z"
    },
    "papermill": {
     "duration": 0.022507,
     "end_time": "2024-03-15T16:30:23.379701",
     "exception": false,
     "start_time": "2024-03-15T16:30:23.357194",
     "status": "completed"
    },
    "tags": []
   },
   "outputs": [
    {
     "data": {
      "text/plain": [
       "array(['Single', 'Married', 'Prefer not to say'], dtype=object)"
      ]
     },
     "execution_count": 9,
     "metadata": {},
     "output_type": "execute_result"
    }
   ],
   "source": [
    "data['Marital Status'].unique()"
   ]
  },
  {
   "cell_type": "code",
   "execution_count": 10,
   "id": "4c325a78",
   "metadata": {
    "execution": {
     "iopub.execute_input": "2024-03-15T16:30:23.405283Z",
     "iopub.status.busy": "2024-03-15T16:30:23.404761Z",
     "iopub.status.idle": "2024-03-15T16:30:23.413384Z",
     "shell.execute_reply": "2024-03-15T16:30:23.412212Z"
    },
    "papermill": {
     "duration": 0.024097,
     "end_time": "2024-03-15T16:30:23.415986",
     "exception": false,
     "start_time": "2024-03-15T16:30:23.391889",
     "status": "completed"
    },
    "tags": []
   },
   "outputs": [
    {
     "data": {
      "text/plain": [
       "array(['Student', 'Employee', 'Self Employeed', 'House wife'],\n",
       "      dtype=object)"
      ]
     },
     "execution_count": 10,
     "metadata": {},
     "output_type": "execute_result"
    }
   ],
   "source": [
    "data['Occupation'].unique()"
   ]
  },
  {
   "cell_type": "code",
   "execution_count": 11,
   "id": "2eb7c4b3",
   "metadata": {
    "execution": {
     "iopub.execute_input": "2024-03-15T16:30:23.440847Z",
     "iopub.status.busy": "2024-03-15T16:30:23.440388Z",
     "iopub.status.idle": "2024-03-15T16:30:23.447925Z",
     "shell.execute_reply": "2024-03-15T16:30:23.446833Z"
    },
    "papermill": {
     "duration": 0.022427,
     "end_time": "2024-03-15T16:30:23.450003",
     "exception": false,
     "start_time": "2024-03-15T16:30:23.427576",
     "status": "completed"
    },
    "tags": []
   },
   "outputs": [
    {
     "data": {
      "text/plain": [
       "array(['Post Graduate', 'Graduate', 'Ph.D', 'Uneducated', 'School'],\n",
       "      dtype=object)"
      ]
     },
     "execution_count": 11,
     "metadata": {},
     "output_type": "execute_result"
    }
   ],
   "source": [
    "data['Educational Qualifications'].unique()"
   ]
  },
  {
   "cell_type": "code",
   "execution_count": 12,
   "id": "241a0c1e",
   "metadata": {
    "execution": {
     "iopub.execute_input": "2024-03-15T16:30:23.476401Z",
     "iopub.status.busy": "2024-03-15T16:30:23.475967Z",
     "iopub.status.idle": "2024-03-15T16:30:23.482714Z",
     "shell.execute_reply": "2024-03-15T16:30:23.481873Z"
    },
    "papermill": {
     "duration": 0.023101,
     "end_time": "2024-03-15T16:30:23.484718",
     "exception": false,
     "start_time": "2024-03-15T16:30:23.461617",
     "status": "completed"
    },
    "tags": []
   },
   "outputs": [
    {
     "data": {
      "text/plain": [
       "array(['No Income', 'Below Rs.10000', 'More than 50000', '10001 to 25000',\n",
       "       '25001 to 50000'], dtype=object)"
      ]
     },
     "execution_count": 12,
     "metadata": {},
     "output_type": "execute_result"
    }
   ],
   "source": [
    "data['Monthly Income'].unique()"
   ]
  },
  {
   "cell_type": "code",
   "execution_count": 13,
   "id": "e677a78b",
   "metadata": {
    "execution": {
     "iopub.execute_input": "2024-03-15T16:30:23.511982Z",
     "iopub.status.busy": "2024-03-15T16:30:23.511496Z",
     "iopub.status.idle": "2024-03-15T16:30:23.520432Z",
     "shell.execute_reply": "2024-03-15T16:30:23.519490Z"
    },
    "papermill": {
     "duration": 0.025285,
     "end_time": "2024-03-15T16:30:23.522784",
     "exception": false,
     "start_time": "2024-03-15T16:30:23.497499",
     "status": "completed"
    },
    "tags": []
   },
   "outputs": [
    {
     "data": {
      "text/plain": [
       "array([4, 3, 6, 2, 5, 1])"
      ]
     },
     "execution_count": 13,
     "metadata": {},
     "output_type": "execute_result"
    }
   ],
   "source": [
    "data['Family size'].unique()"
   ]
  },
  {
   "cell_type": "code",
   "execution_count": 14,
   "id": "c818aff3",
   "metadata": {
    "execution": {
     "iopub.execute_input": "2024-03-15T16:30:23.548795Z",
     "iopub.status.busy": "2024-03-15T16:30:23.548338Z",
     "iopub.status.idle": "2024-03-15T16:30:23.555501Z",
     "shell.execute_reply": "2024-03-15T16:30:23.554549Z"
    },
    "papermill": {
     "duration": 0.022798,
     "end_time": "2024-03-15T16:30:23.557561",
     "exception": false,
     "start_time": "2024-03-15T16:30:23.534763",
     "status": "completed"
    },
    "tags": []
   },
   "outputs": [
    {
     "data": {
      "text/plain": [
       "array(['Yes', 'No'], dtype=object)"
      ]
     },
     "execution_count": 14,
     "metadata": {},
     "output_type": "execute_result"
    }
   ],
   "source": [
    "data['Output'].unique()"
   ]
  },
  {
   "cell_type": "code",
   "execution_count": 15,
   "id": "6a0dc7a7",
   "metadata": {
    "execution": {
     "iopub.execute_input": "2024-03-15T16:30:23.583574Z",
     "iopub.status.busy": "2024-03-15T16:30:23.583158Z",
     "iopub.status.idle": "2024-03-15T16:30:23.590385Z",
     "shell.execute_reply": "2024-03-15T16:30:23.588950Z"
    },
    "papermill": {
     "duration": 0.022943,
     "end_time": "2024-03-15T16:30:23.592586",
     "exception": false,
     "start_time": "2024-03-15T16:30:23.569643",
     "status": "completed"
    },
    "tags": []
   },
   "outputs": [
    {
     "data": {
      "text/plain": [
       "array(['Positive', 'Negative '], dtype=object)"
      ]
     },
     "execution_count": 15,
     "metadata": {},
     "output_type": "execute_result"
    }
   ],
   "source": [
    "data['Feedback'].unique()"
   ]
  },
  {
   "cell_type": "markdown",
   "id": "2ead6b91",
   "metadata": {
    "papermill": {
     "duration": 0.011562,
     "end_time": "2024-03-15T16:30:23.616360",
     "exception": false,
     "start_time": "2024-03-15T16:30:23.604798",
     "status": "completed"
    },
    "tags": []
   },
   "source": [
    "<h4>Checking null values</h4>"
   ]
  },
  {
   "cell_type": "code",
   "execution_count": 16,
   "id": "f5268967",
   "metadata": {
    "execution": {
     "iopub.execute_input": "2024-03-15T16:30:23.643632Z",
     "iopub.status.busy": "2024-03-15T16:30:23.643217Z",
     "iopub.status.idle": "2024-03-15T16:30:23.651716Z",
     "shell.execute_reply": "2024-03-15T16:30:23.650913Z"
    },
    "papermill": {
     "duration": 0.024711,
     "end_time": "2024-03-15T16:30:23.654033",
     "exception": false,
     "start_time": "2024-03-15T16:30:23.629322",
     "status": "completed"
    },
    "tags": []
   },
   "outputs": [
    {
     "data": {
      "text/plain": [
       "Age                           0\n",
       "Gender                        0\n",
       "Marital Status                0\n",
       "Occupation                    0\n",
       "Monthly Income                0\n",
       "Educational Qualifications    0\n",
       "Family size                   0\n",
       "latitude                      0\n",
       "longitude                     0\n",
       "Pin code                      0\n",
       "Output                        0\n",
       "Feedback                      0\n",
       "dtype: int64"
      ]
     },
     "execution_count": 16,
     "metadata": {},
     "output_type": "execute_result"
    }
   ],
   "source": [
    "data.isnull().sum()    # The dataset does'nt contain any any null values"
   ]
  },
  {
   "cell_type": "markdown",
   "id": "3117e446",
   "metadata": {
    "papermill": {
     "duration": 0.013113,
     "end_time": "2024-03-15T16:30:23.679481",
     "exception": false,
     "start_time": "2024-03-15T16:30:23.666368",
     "status": "completed"
    },
    "tags": []
   },
   "source": [
    "<h4>Checking duplicates</h4>"
   ]
  },
  {
   "cell_type": "code",
   "execution_count": 17,
   "id": "e0e4faf0",
   "metadata": {
    "execution": {
     "iopub.execute_input": "2024-03-15T16:30:23.796994Z",
     "iopub.status.busy": "2024-03-15T16:30:23.796542Z",
     "iopub.status.idle": "2024-03-15T16:30:23.820062Z",
     "shell.execute_reply": "2024-03-15T16:30:23.818721Z"
    },
    "papermill": {
     "duration": 0.040037,
     "end_time": "2024-03-15T16:30:23.822557",
     "exception": false,
     "start_time": "2024-03-15T16:30:23.782520",
     "status": "completed"
    },
    "tags": []
   },
   "outputs": [
    {
     "data": {
      "text/html": [
       "<div>\n",
       "<style scoped>\n",
       "    .dataframe tbody tr th:only-of-type {\n",
       "        vertical-align: middle;\n",
       "    }\n",
       "\n",
       "    .dataframe tbody tr th {\n",
       "        vertical-align: top;\n",
       "    }\n",
       "\n",
       "    .dataframe thead th {\n",
       "        text-align: right;\n",
       "    }\n",
       "</style>\n",
       "<table border=\"1\" class=\"dataframe\">\n",
       "  <thead>\n",
       "    <tr style=\"text-align: right;\">\n",
       "      <th></th>\n",
       "      <th>Age</th>\n",
       "      <th>Gender</th>\n",
       "      <th>Marital Status</th>\n",
       "      <th>Occupation</th>\n",
       "      <th>Monthly Income</th>\n",
       "      <th>Educational Qualifications</th>\n",
       "      <th>Family size</th>\n",
       "      <th>latitude</th>\n",
       "      <th>longitude</th>\n",
       "      <th>Pin code</th>\n",
       "      <th>Output</th>\n",
       "      <th>Feedback</th>\n",
       "    </tr>\n",
       "  </thead>\n",
       "  <tbody>\n",
       "    <tr>\n",
       "      <th>2</th>\n",
       "      <td>22</td>\n",
       "      <td>Male</td>\n",
       "      <td>Single</td>\n",
       "      <td>Student</td>\n",
       "      <td>Below Rs.10000</td>\n",
       "      <td>Post Graduate</td>\n",
       "      <td>3</td>\n",
       "      <td>12.9551</td>\n",
       "      <td>77.6593</td>\n",
       "      <td>560017</td>\n",
       "      <td>Yes</td>\n",
       "      <td>Negative</td>\n",
       "    </tr>\n",
       "    <tr>\n",
       "      <th>3</th>\n",
       "      <td>22</td>\n",
       "      <td>Female</td>\n",
       "      <td>Single</td>\n",
       "      <td>Student</td>\n",
       "      <td>No Income</td>\n",
       "      <td>Graduate</td>\n",
       "      <td>6</td>\n",
       "      <td>12.9473</td>\n",
       "      <td>77.5616</td>\n",
       "      <td>560019</td>\n",
       "      <td>Yes</td>\n",
       "      <td>Positive</td>\n",
       "    </tr>\n",
       "    <tr>\n",
       "      <th>4</th>\n",
       "      <td>22</td>\n",
       "      <td>Male</td>\n",
       "      <td>Single</td>\n",
       "      <td>Student</td>\n",
       "      <td>Below Rs.10000</td>\n",
       "      <td>Post Graduate</td>\n",
       "      <td>4</td>\n",
       "      <td>12.9850</td>\n",
       "      <td>77.5533</td>\n",
       "      <td>560010</td>\n",
       "      <td>Yes</td>\n",
       "      <td>Positive</td>\n",
       "    </tr>\n",
       "    <tr>\n",
       "      <th>5</th>\n",
       "      <td>27</td>\n",
       "      <td>Female</td>\n",
       "      <td>Married</td>\n",
       "      <td>Employee</td>\n",
       "      <td>More than 50000</td>\n",
       "      <td>Post Graduate</td>\n",
       "      <td>2</td>\n",
       "      <td>12.9299</td>\n",
       "      <td>77.6848</td>\n",
       "      <td>560103</td>\n",
       "      <td>Yes</td>\n",
       "      <td>Positive</td>\n",
       "    </tr>\n",
       "    <tr>\n",
       "      <th>6</th>\n",
       "      <td>22</td>\n",
       "      <td>Male</td>\n",
       "      <td>Single</td>\n",
       "      <td>Student</td>\n",
       "      <td>No Income</td>\n",
       "      <td>Graduate</td>\n",
       "      <td>3</td>\n",
       "      <td>12.9770</td>\n",
       "      <td>77.5773</td>\n",
       "      <td>560009</td>\n",
       "      <td>Yes</td>\n",
       "      <td>Positive</td>\n",
       "    </tr>\n",
       "    <tr>\n",
       "      <th>...</th>\n",
       "      <td>...</td>\n",
       "      <td>...</td>\n",
       "      <td>...</td>\n",
       "      <td>...</td>\n",
       "      <td>...</td>\n",
       "      <td>...</td>\n",
       "      <td>...</td>\n",
       "      <td>...</td>\n",
       "      <td>...</td>\n",
       "      <td>...</td>\n",
       "      <td>...</td>\n",
       "      <td>...</td>\n",
       "    </tr>\n",
       "    <tr>\n",
       "      <th>333</th>\n",
       "      <td>29</td>\n",
       "      <td>Male</td>\n",
       "      <td>Married</td>\n",
       "      <td>Employee</td>\n",
       "      <td>25001 to 50000</td>\n",
       "      <td>Graduate</td>\n",
       "      <td>4</td>\n",
       "      <td>12.9261</td>\n",
       "      <td>77.6221</td>\n",
       "      <td>560034</td>\n",
       "      <td>No</td>\n",
       "      <td>Negative</td>\n",
       "    </tr>\n",
       "    <tr>\n",
       "      <th>334</th>\n",
       "      <td>23</td>\n",
       "      <td>Female</td>\n",
       "      <td>Single</td>\n",
       "      <td>Student</td>\n",
       "      <td>No Income</td>\n",
       "      <td>Graduate</td>\n",
       "      <td>1</td>\n",
       "      <td>12.9770</td>\n",
       "      <td>77.5773</td>\n",
       "      <td>560009</td>\n",
       "      <td>Yes</td>\n",
       "      <td>Positive</td>\n",
       "    </tr>\n",
       "    <tr>\n",
       "      <th>335</th>\n",
       "      <td>25</td>\n",
       "      <td>Male</td>\n",
       "      <td>Single</td>\n",
       "      <td>Self Employeed</td>\n",
       "      <td>More than 50000</td>\n",
       "      <td>Graduate</td>\n",
       "      <td>2</td>\n",
       "      <td>12.9783</td>\n",
       "      <td>77.6408</td>\n",
       "      <td>560038</td>\n",
       "      <td>Yes</td>\n",
       "      <td>Positive</td>\n",
       "    </tr>\n",
       "    <tr>\n",
       "      <th>337</th>\n",
       "      <td>27</td>\n",
       "      <td>Male</td>\n",
       "      <td>Married</td>\n",
       "      <td>Self Employeed</td>\n",
       "      <td>25001 to 50000</td>\n",
       "      <td>Graduate</td>\n",
       "      <td>6</td>\n",
       "      <td>12.9217</td>\n",
       "      <td>77.5936</td>\n",
       "      <td>560041</td>\n",
       "      <td>No</td>\n",
       "      <td>Positive</td>\n",
       "    </tr>\n",
       "    <tr>\n",
       "      <th>338</th>\n",
       "      <td>25</td>\n",
       "      <td>Male</td>\n",
       "      <td>Single</td>\n",
       "      <td>Self Employeed</td>\n",
       "      <td>10001 to 25000</td>\n",
       "      <td>Graduate</td>\n",
       "      <td>3</td>\n",
       "      <td>13.0206</td>\n",
       "      <td>77.6479</td>\n",
       "      <td>560043</td>\n",
       "      <td>Yes</td>\n",
       "      <td>Positive</td>\n",
       "    </tr>\n",
       "  </tbody>\n",
       "</table>\n",
       "<p>103 rows × 12 columns</p>\n",
       "</div>"
      ],
      "text/plain": [
       "     Age  Gender Marital Status      Occupation   Monthly Income  \\\n",
       "2     22    Male         Single         Student   Below Rs.10000   \n",
       "3     22  Female         Single         Student        No Income   \n",
       "4     22    Male         Single         Student   Below Rs.10000   \n",
       "5     27  Female        Married        Employee  More than 50000   \n",
       "6     22    Male         Single         Student        No Income   \n",
       "..   ...     ...            ...             ...              ...   \n",
       "333   29    Male        Married        Employee   25001 to 50000   \n",
       "334   23  Female         Single         Student        No Income   \n",
       "335   25    Male         Single  Self Employeed  More than 50000   \n",
       "337   27    Male        Married  Self Employeed   25001 to 50000   \n",
       "338   25    Male         Single  Self Employeed   10001 to 25000   \n",
       "\n",
       "    Educational Qualifications  Family size  latitude  longitude  Pin code  \\\n",
       "2                Post Graduate            3   12.9551    77.6593    560017   \n",
       "3                     Graduate            6   12.9473    77.5616    560019   \n",
       "4                Post Graduate            4   12.9850    77.5533    560010   \n",
       "5                Post Graduate            2   12.9299    77.6848    560103   \n",
       "6                     Graduate            3   12.9770    77.5773    560009   \n",
       "..                         ...          ...       ...        ...       ...   \n",
       "333                   Graduate            4   12.9261    77.6221    560034   \n",
       "334                   Graduate            1   12.9770    77.5773    560009   \n",
       "335                   Graduate            2   12.9783    77.6408    560038   \n",
       "337                   Graduate            6   12.9217    77.5936    560041   \n",
       "338                   Graduate            3   13.0206    77.6479    560043   \n",
       "\n",
       "    Output   Feedback  \n",
       "2      Yes  Negative   \n",
       "3      Yes   Positive  \n",
       "4      Yes   Positive  \n",
       "5      Yes   Positive  \n",
       "6      Yes   Positive  \n",
       "..     ...        ...  \n",
       "333     No  Negative   \n",
       "334    Yes   Positive  \n",
       "335    Yes   Positive  \n",
       "337     No   Positive  \n",
       "338    Yes   Positive  \n",
       "\n",
       "[103 rows x 12 columns]"
      ]
     },
     "execution_count": 17,
     "metadata": {},
     "output_type": "execute_result"
    }
   ],
   "source": [
    "data[data.duplicated(keep='last')]"
   ]
  },
  {
   "cell_type": "markdown",
   "id": "2fca3ba3",
   "metadata": {
    "papermill": {
     "duration": 0.012366,
     "end_time": "2024-03-15T16:30:23.847789",
     "exception": false,
     "start_time": "2024-03-15T16:30:23.835423",
     "status": "completed"
    },
    "tags": []
   },
   "source": [
    "<p><b>Note:</b> The given data contains many duplicated values.It is better not to remove the duplicated values because it leads to the less training data during data splitting and hence affects the Accuracy of the model</p>"
   ]
  },
  {
   "cell_type": "markdown",
   "id": "c739d39a",
   "metadata": {
    "papermill": {
     "duration": 0.013328,
     "end_time": "2024-03-15T16:30:23.873916",
     "exception": false,
     "start_time": "2024-03-15T16:30:23.860588",
     "status": "completed"
    },
    "tags": []
   },
   "source": [
    "<h4>Replacing str values of Monthly Income to float values</h4>"
   ]
  },
  {
   "cell_type": "code",
   "execution_count": 18,
   "id": "92f94fb4",
   "metadata": {
    "execution": {
     "iopub.execute_input": "2024-03-15T16:30:23.902423Z",
     "iopub.status.busy": "2024-03-15T16:30:23.901248Z",
     "iopub.status.idle": "2024-03-15T16:30:23.908740Z",
     "shell.execute_reply": "2024-03-15T16:30:23.907285Z"
    },
    "papermill": {
     "duration": 0.025198,
     "end_time": "2024-03-15T16:30:23.911923",
     "exception": false,
     "start_time": "2024-03-15T16:30:23.886725",
     "status": "completed"
    },
    "tags": []
   },
   "outputs": [],
   "source": [
    "data=data.replace('No Income',0)"
   ]
  },
  {
   "cell_type": "code",
   "execution_count": 19,
   "id": "4152769b",
   "metadata": {
    "execution": {
     "iopub.execute_input": "2024-03-15T16:30:23.941114Z",
     "iopub.status.busy": "2024-03-15T16:30:23.940675Z",
     "iopub.status.idle": "2024-03-15T16:30:23.948163Z",
     "shell.execute_reply": "2024-03-15T16:30:23.947257Z"
    },
    "papermill": {
     "duration": 0.025017,
     "end_time": "2024-03-15T16:30:23.950073",
     "exception": false,
     "start_time": "2024-03-15T16:30:23.925056",
     "status": "completed"
    },
    "tags": []
   },
   "outputs": [],
   "source": [
    "data=data.replace('Rs.','',regex=True)"
   ]
  },
  {
   "cell_type": "code",
   "execution_count": 20,
   "id": "e2cc3e50",
   "metadata": {
    "execution": {
     "iopub.execute_input": "2024-03-15T16:30:23.979180Z",
     "iopub.status.busy": "2024-03-15T16:30:23.978694Z",
     "iopub.status.idle": "2024-03-15T16:30:23.986410Z",
     "shell.execute_reply": "2024-03-15T16:30:23.985124Z"
    },
    "papermill": {
     "duration": 0.025287,
     "end_time": "2024-03-15T16:30:23.989058",
     "exception": false,
     "start_time": "2024-03-15T16:30:23.963771",
     "status": "completed"
    },
    "tags": []
   },
   "outputs": [],
   "source": [
    "data=data.replace('Below ','',regex=True)"
   ]
  },
  {
   "cell_type": "code",
   "execution_count": 21,
   "id": "8b7f1852",
   "metadata": {
    "execution": {
     "iopub.execute_input": "2024-03-15T16:30:24.016492Z",
     "iopub.status.busy": "2024-03-15T16:30:24.016015Z",
     "iopub.status.idle": "2024-03-15T16:30:24.024266Z",
     "shell.execute_reply": "2024-03-15T16:30:24.023319Z"
    },
    "papermill": {
     "duration": 0.024556,
     "end_time": "2024-03-15T16:30:24.026520",
     "exception": false,
     "start_time": "2024-03-15T16:30:24.001964",
     "status": "completed"
    },
    "tags": []
   },
   "outputs": [],
   "source": [
    "data=data.replace(' to ',',',regex=True)"
   ]
  },
  {
   "cell_type": "code",
   "execution_count": 22,
   "id": "9925ba76",
   "metadata": {
    "execution": {
     "iopub.execute_input": "2024-03-15T16:30:24.054241Z",
     "iopub.status.busy": "2024-03-15T16:30:24.053758Z",
     "iopub.status.idle": "2024-03-15T16:30:24.060986Z",
     "shell.execute_reply": "2024-03-15T16:30:24.060065Z"
    },
    "papermill": {
     "duration": 0.023945,
     "end_time": "2024-03-15T16:30:24.063332",
     "exception": false,
     "start_time": "2024-03-15T16:30:24.039387",
     "status": "completed"
    },
    "tags": []
   },
   "outputs": [],
   "source": [
    "data=data.replace('10000',10000,regex=True)"
   ]
  },
  {
   "cell_type": "code",
   "execution_count": 23,
   "id": "809e50fc",
   "metadata": {
    "execution": {
     "iopub.execute_input": "2024-03-15T16:30:24.092952Z",
     "iopub.status.busy": "2024-03-15T16:30:24.092107Z",
     "iopub.status.idle": "2024-03-15T16:30:24.099650Z",
     "shell.execute_reply": "2024-03-15T16:30:24.098607Z"
    },
    "papermill": {
     "duration": 0.025046,
     "end_time": "2024-03-15T16:30:24.102283",
     "exception": false,
     "start_time": "2024-03-15T16:30:24.077237",
     "status": "completed"
    },
    "tags": []
   },
   "outputs": [],
   "source": [
    "data=data.replace('More than ','',regex=True)"
   ]
  },
  {
   "cell_type": "code",
   "execution_count": 24,
   "id": "879639b4",
   "metadata": {
    "execution": {
     "iopub.execute_input": "2024-03-15T16:30:24.131843Z",
     "iopub.status.busy": "2024-03-15T16:30:24.131106Z",
     "iopub.status.idle": "2024-03-15T16:30:24.138196Z",
     "shell.execute_reply": "2024-03-15T16:30:24.137218Z"
    },
    "papermill": {
     "duration": 0.02466,
     "end_time": "2024-03-15T16:30:24.140726",
     "exception": false,
     "start_time": "2024-03-15T16:30:24.116066",
     "status": "completed"
    },
    "tags": []
   },
   "outputs": [],
   "source": [
    "data=data.replace('25001,50000',37500,regex=True)    # Taking average value"
   ]
  },
  {
   "cell_type": "code",
   "execution_count": 25,
   "id": "0362a50e",
   "metadata": {
    "execution": {
     "iopub.execute_input": "2024-03-15T16:30:24.168966Z",
     "iopub.status.busy": "2024-03-15T16:30:24.168216Z",
     "iopub.status.idle": "2024-03-15T16:30:24.174761Z",
     "shell.execute_reply": "2024-03-15T16:30:24.173939Z"
    },
    "papermill": {
     "duration": 0.023398,
     "end_time": "2024-03-15T16:30:24.177361",
     "exception": false,
     "start_time": "2024-03-15T16:30:24.153963",
     "status": "completed"
    },
    "tags": []
   },
   "outputs": [],
   "source": [
    "data=data.replace('10001,25000',17500,regex=True)    # Taking average value"
   ]
  },
  {
   "cell_type": "code",
   "execution_count": 26,
   "id": "39de70ba",
   "metadata": {
    "execution": {
     "iopub.execute_input": "2024-03-15T16:30:24.208610Z",
     "iopub.status.busy": "2024-03-15T16:30:24.207797Z",
     "iopub.status.idle": "2024-03-15T16:30:24.216162Z",
     "shell.execute_reply": "2024-03-15T16:30:24.214835Z"
    },
    "papermill": {
     "duration": 0.028196,
     "end_time": "2024-03-15T16:30:24.219374",
     "exception": false,
     "start_time": "2024-03-15T16:30:24.191178",
     "status": "completed"
    },
    "tags": []
   },
   "outputs": [
    {
     "name": "stderr",
     "output_type": "stream",
     "text": [
      "/tmp/ipykernel_18/4060024951.py:1: FutureWarning: Downcasting behavior in `replace` is deprecated and will be removed in a future version. To retain the old behavior, explicitly call `result.infer_objects(copy=False)`. To opt-in to the future behavior, set `pd.set_option('future.no_silent_downcasting', True)`\n",
      "  data=data.replace('50000',50000,regex=True)\n"
     ]
    }
   ],
   "source": [
    "data=data.replace('50000',50000,regex=True)"
   ]
  },
  {
   "cell_type": "code",
   "execution_count": 27,
   "id": "8bd78bc4",
   "metadata": {
    "execution": {
     "iopub.execute_input": "2024-03-15T16:30:24.252448Z",
     "iopub.status.busy": "2024-03-15T16:30:24.251935Z",
     "iopub.status.idle": "2024-03-15T16:30:24.260398Z",
     "shell.execute_reply": "2024-03-15T16:30:24.259202Z"
    },
    "papermill": {
     "duration": 0.028896,
     "end_time": "2024-03-15T16:30:24.263549",
     "exception": false,
     "start_time": "2024-03-15T16:30:24.234653",
     "status": "completed"
    },
    "tags": []
   },
   "outputs": [
    {
     "data": {
      "text/plain": [
       "array([    0, 10000, 50000, 17500, 37500])"
      ]
     },
     "execution_count": 27,
     "metadata": {},
     "output_type": "execute_result"
    }
   ],
   "source": [
    "data['Monthly Income'].unique()"
   ]
  },
  {
   "cell_type": "code",
   "execution_count": 28,
   "id": "526d07bb",
   "metadata": {
    "execution": {
     "iopub.execute_input": "2024-03-15T16:30:24.292874Z",
     "iopub.status.busy": "2024-03-15T16:30:24.292408Z",
     "iopub.status.idle": "2024-03-15T16:30:24.298572Z",
     "shell.execute_reply": "2024-03-15T16:30:24.297322Z"
    },
    "papermill": {
     "duration": 0.024101,
     "end_time": "2024-03-15T16:30:24.301228",
     "exception": false,
     "start_time": "2024-03-15T16:30:24.277127",
     "status": "completed"
    },
    "tags": []
   },
   "outputs": [],
   "source": [
    "data['Monthly Income']=data['Monthly Income'].astype('float')"
   ]
  },
  {
   "cell_type": "markdown",
   "id": "de469987",
   "metadata": {
    "papermill": {
     "duration": 0.012734,
     "end_time": "2024-03-15T16:30:24.327185",
     "exception": false,
     "start_time": "2024-03-15T16:30:24.314451",
     "status": "completed"
    },
    "tags": []
   },
   "source": [
    "<h3>Data Preprocessing</h3>"
   ]
  },
  {
   "cell_type": "markdown",
   "id": "2cadfcc3",
   "metadata": {
    "papermill": {
     "duration": 0.012843,
     "end_time": "2024-03-15T16:30:24.353196",
     "exception": false,
     "start_time": "2024-03-15T16:30:24.340353",
     "status": "completed"
    },
    "tags": []
   },
   "source": [
    "<h4>Splitting the data into dependent and independent variables</h4>"
   ]
  },
  {
   "cell_type": "code",
   "execution_count": 29,
   "id": "68e2e1b6",
   "metadata": {
    "execution": {
     "iopub.execute_input": "2024-03-15T16:30:24.381276Z",
     "iopub.status.busy": "2024-03-15T16:30:24.380780Z",
     "iopub.status.idle": "2024-03-15T16:30:24.388915Z",
     "shell.execute_reply": "2024-03-15T16:30:24.387623Z"
    },
    "papermill": {
     "duration": 0.025042,
     "end_time": "2024-03-15T16:30:24.391303",
     "exception": false,
     "start_time": "2024-03-15T16:30:24.366261",
     "status": "completed"
    },
    "tags": []
   },
   "outputs": [],
   "source": [
    "X=data.iloc[:,0:7].values\n",
    "y=data.iloc[:,11].values"
   ]
  },
  {
   "cell_type": "markdown",
   "id": "0763fb1f",
   "metadata": {
    "papermill": {
     "duration": 0.01273,
     "end_time": "2024-03-15T16:30:24.417167",
     "exception": false,
     "start_time": "2024-03-15T16:30:24.404437",
     "status": "completed"
    },
    "tags": []
   },
   "source": [
    "<h4>Encoding the Categorical Data</h4>"
   ]
  },
  {
   "cell_type": "code",
   "execution_count": 30,
   "id": "ae75ed34",
   "metadata": {
    "execution": {
     "iopub.execute_input": "2024-03-15T16:30:24.446667Z",
     "iopub.status.busy": "2024-03-15T16:30:24.446206Z",
     "iopub.status.idle": "2024-03-15T16:30:24.454285Z",
     "shell.execute_reply": "2024-03-15T16:30:24.452970Z"
    },
    "papermill": {
     "duration": 0.025257,
     "end_time": "2024-03-15T16:30:24.456760",
     "exception": false,
     "start_time": "2024-03-15T16:30:24.431503",
     "status": "completed"
    },
    "tags": []
   },
   "outputs": [],
   "source": [
    "e1=LabelEncoder()\n",
    "y=e1.fit_transform(y)\n",
    "\n",
    "e2=LabelEncoder()\n",
    "X[:,1]=e2.fit_transform(X[:,1])\n",
    "\n",
    "e3=LabelEncoder()\n",
    "X[:,2]=e3.fit_transform(X[:,2])\n",
    "\n",
    "e4=LabelEncoder()\n",
    "X[:,3]=e4.fit_transform(X[:,3])\n",
    "\n",
    "e5=LabelEncoder()\n",
    "X[:,5]=e5.fit_transform(X[:,5])"
   ]
  },
  {
   "cell_type": "markdown",
   "id": "357f236f",
   "metadata": {
    "papermill": {
     "duration": 0.012549,
     "end_time": "2024-03-15T16:30:24.482964",
     "exception": false,
     "start_time": "2024-03-15T16:30:24.470415",
     "status": "completed"
    },
    "tags": []
   },
   "source": [
    "<h4>Splitting the dataset into training and testing data</h4>"
   ]
  },
  {
   "cell_type": "code",
   "execution_count": 31,
   "id": "bfc953f5",
   "metadata": {
    "execution": {
     "iopub.execute_input": "2024-03-15T16:30:24.512741Z",
     "iopub.status.busy": "2024-03-15T16:30:24.512305Z",
     "iopub.status.idle": "2024-03-15T16:30:24.519702Z",
     "shell.execute_reply": "2024-03-15T16:30:24.518826Z"
    },
    "papermill": {
     "duration": 0.024694,
     "end_time": "2024-03-15T16:30:24.521936",
     "exception": false,
     "start_time": "2024-03-15T16:30:24.497242",
     "status": "completed"
    },
    "tags": []
   },
   "outputs": [],
   "source": [
    "X_train,X_test,y_train,y_test=train_test_split(X,y,train_size=0.8,test_size=0.2,shuffle=True,random_state=0)"
   ]
  },
  {
   "cell_type": "markdown",
   "id": "1b155bc3",
   "metadata": {
    "papermill": {
     "duration": 0.012551,
     "end_time": "2024-03-15T16:30:24.547740",
     "exception": false,
     "start_time": "2024-03-15T16:30:24.535189",
     "status": "completed"
    },
    "tags": []
   },
   "source": [
    "<h3>Training the model</h3>"
   ]
  },
  {
   "cell_type": "code",
   "execution_count": 32,
   "id": "831508e0",
   "metadata": {
    "execution": {
     "iopub.execute_input": "2024-03-15T16:30:24.575483Z",
     "iopub.status.busy": "2024-03-15T16:30:24.575033Z",
     "iopub.status.idle": "2024-03-15T16:30:24.586766Z",
     "shell.execute_reply": "2024-03-15T16:30:24.585822Z"
    },
    "papermill": {
     "duration": 0.028382,
     "end_time": "2024-03-15T16:30:24.589140",
     "exception": false,
     "start_time": "2024-03-15T16:30:24.560758",
     "status": "completed"
    },
    "tags": []
   },
   "outputs": [
    {
     "data": {
      "text/html": [
       "<style>#sk-container-id-1 {color: black;background-color: white;}#sk-container-id-1 pre{padding: 0;}#sk-container-id-1 div.sk-toggleable {background-color: white;}#sk-container-id-1 label.sk-toggleable__label {cursor: pointer;display: block;width: 100%;margin-bottom: 0;padding: 0.3em;box-sizing: border-box;text-align: center;}#sk-container-id-1 label.sk-toggleable__label-arrow:before {content: \"▸\";float: left;margin-right: 0.25em;color: #696969;}#sk-container-id-1 label.sk-toggleable__label-arrow:hover:before {color: black;}#sk-container-id-1 div.sk-estimator:hover label.sk-toggleable__label-arrow:before {color: black;}#sk-container-id-1 div.sk-toggleable__content {max-height: 0;max-width: 0;overflow: hidden;text-align: left;background-color: #f0f8ff;}#sk-container-id-1 div.sk-toggleable__content pre {margin: 0.2em;color: black;border-radius: 0.25em;background-color: #f0f8ff;}#sk-container-id-1 input.sk-toggleable__control:checked~div.sk-toggleable__content {max-height: 200px;max-width: 100%;overflow: auto;}#sk-container-id-1 input.sk-toggleable__control:checked~label.sk-toggleable__label-arrow:before {content: \"▾\";}#sk-container-id-1 div.sk-estimator input.sk-toggleable__control:checked~label.sk-toggleable__label {background-color: #d4ebff;}#sk-container-id-1 div.sk-label input.sk-toggleable__control:checked~label.sk-toggleable__label {background-color: #d4ebff;}#sk-container-id-1 input.sk-hidden--visually {border: 0;clip: rect(1px 1px 1px 1px);clip: rect(1px, 1px, 1px, 1px);height: 1px;margin: -1px;overflow: hidden;padding: 0;position: absolute;width: 1px;}#sk-container-id-1 div.sk-estimator {font-family: monospace;background-color: #f0f8ff;border: 1px dotted black;border-radius: 0.25em;box-sizing: border-box;margin-bottom: 0.5em;}#sk-container-id-1 div.sk-estimator:hover {background-color: #d4ebff;}#sk-container-id-1 div.sk-parallel-item::after {content: \"\";width: 100%;border-bottom: 1px solid gray;flex-grow: 1;}#sk-container-id-1 div.sk-label:hover label.sk-toggleable__label {background-color: #d4ebff;}#sk-container-id-1 div.sk-serial::before {content: \"\";position: absolute;border-left: 1px solid gray;box-sizing: border-box;top: 0;bottom: 0;left: 50%;z-index: 0;}#sk-container-id-1 div.sk-serial {display: flex;flex-direction: column;align-items: center;background-color: white;padding-right: 0.2em;padding-left: 0.2em;position: relative;}#sk-container-id-1 div.sk-item {position: relative;z-index: 1;}#sk-container-id-1 div.sk-parallel {display: flex;align-items: stretch;justify-content: center;background-color: white;position: relative;}#sk-container-id-1 div.sk-item::before, #sk-container-id-1 div.sk-parallel-item::before {content: \"\";position: absolute;border-left: 1px solid gray;box-sizing: border-box;top: 0;bottom: 0;left: 50%;z-index: -1;}#sk-container-id-1 div.sk-parallel-item {display: flex;flex-direction: column;z-index: 1;position: relative;background-color: white;}#sk-container-id-1 div.sk-parallel-item:first-child::after {align-self: flex-end;width: 50%;}#sk-container-id-1 div.sk-parallel-item:last-child::after {align-self: flex-start;width: 50%;}#sk-container-id-1 div.sk-parallel-item:only-child::after {width: 0;}#sk-container-id-1 div.sk-dashed-wrapped {border: 1px dashed gray;margin: 0 0.4em 0.5em 0.4em;box-sizing: border-box;padding-bottom: 0.4em;background-color: white;}#sk-container-id-1 div.sk-label label {font-family: monospace;font-weight: bold;display: inline-block;line-height: 1.2em;}#sk-container-id-1 div.sk-label-container {text-align: center;}#sk-container-id-1 div.sk-container {/* jupyter's `normalize.less` sets `[hidden] { display: none; }` but bootstrap.min.css set `[hidden] { display: none !important; }` so we also need the `!important` here to be able to override the default hidden behavior on the sphinx rendered scikit-learn.org. See: https://github.com/scikit-learn/scikit-learn/issues/21755 */display: inline-block !important;position: relative;}#sk-container-id-1 div.sk-text-repr-fallback {display: none;}</style><div id=\"sk-container-id-1\" class=\"sk-top-container\"><div class=\"sk-text-repr-fallback\"><pre>GaussianNB()</pre><b>In a Jupyter environment, please rerun this cell to show the HTML representation or trust the notebook. <br />On GitHub, the HTML representation is unable to render, please try loading this page with nbviewer.org.</b></div><div class=\"sk-container\" hidden><div class=\"sk-item\"><div class=\"sk-estimator sk-toggleable\"><input class=\"sk-toggleable__control sk-hidden--visually\" id=\"sk-estimator-id-1\" type=\"checkbox\" checked><label for=\"sk-estimator-id-1\" class=\"sk-toggleable__label sk-toggleable__label-arrow\">GaussianNB</label><div class=\"sk-toggleable__content\"><pre>GaussianNB()</pre></div></div></div></div></div>"
      ],
      "text/plain": [
       "GaussianNB()"
      ]
     },
     "execution_count": 32,
     "metadata": {},
     "output_type": "execute_result"
    }
   ],
   "source": [
    "clf=GaussianNB()\n",
    "\n",
    "clf.fit(X_train,y_train)"
   ]
  },
  {
   "cell_type": "code",
   "execution_count": 33,
   "id": "4d8ea808",
   "metadata": {
    "execution": {
     "iopub.execute_input": "2024-03-15T16:30:24.617677Z",
     "iopub.status.busy": "2024-03-15T16:30:24.617218Z",
     "iopub.status.idle": "2024-03-15T16:30:24.623565Z",
     "shell.execute_reply": "2024-03-15T16:30:24.622180Z"
    },
    "papermill": {
     "duration": 0.023766,
     "end_time": "2024-03-15T16:30:24.626238",
     "exception": false,
     "start_time": "2024-03-15T16:30:24.602472",
     "status": "completed"
    },
    "tags": []
   },
   "outputs": [],
   "source": [
    "y_pred=clf.predict(X_test)"
   ]
  },
  {
   "cell_type": "code",
   "execution_count": 34,
   "id": "33e3c4cb",
   "metadata": {
    "execution": {
     "iopub.execute_input": "2024-03-15T16:30:24.655884Z",
     "iopub.status.busy": "2024-03-15T16:30:24.655052Z",
     "iopub.status.idle": "2024-03-15T16:30:24.663767Z",
     "shell.execute_reply": "2024-03-15T16:30:24.662826Z"
    },
    "papermill": {
     "duration": 0.026331,
     "end_time": "2024-03-15T16:30:24.666025",
     "exception": false,
     "start_time": "2024-03-15T16:30:24.639694",
     "status": "completed"
    },
    "tags": []
   },
   "outputs": [
    {
     "data": {
      "text/plain": [
       "array([[1, 1],\n",
       "       [1, 0],\n",
       "       [1, 0],\n",
       "       [1, 1],\n",
       "       [1, 1],\n",
       "       [1, 1],\n",
       "       [0, 1],\n",
       "       [1, 1],\n",
       "       [1, 1],\n",
       "       [1, 1],\n",
       "       [1, 1],\n",
       "       [1, 0],\n",
       "       [1, 1],\n",
       "       [0, 0],\n",
       "       [1, 0],\n",
       "       [1, 1],\n",
       "       [1, 1],\n",
       "       [1, 1],\n",
       "       [1, 1],\n",
       "       [1, 1],\n",
       "       [1, 1],\n",
       "       [1, 1],\n",
       "       [1, 1],\n",
       "       [1, 1],\n",
       "       [1, 1],\n",
       "       [1, 1],\n",
       "       [1, 1],\n",
       "       [1, 1],\n",
       "       [1, 1],\n",
       "       [0, 1],\n",
       "       [1, 1],\n",
       "       [1, 0],\n",
       "       [1, 1],\n",
       "       [1, 1],\n",
       "       [1, 1],\n",
       "       [1, 1],\n",
       "       [1, 1],\n",
       "       [0, 1],\n",
       "       [1, 0],\n",
       "       [1, 1],\n",
       "       [1, 1],\n",
       "       [1, 1],\n",
       "       [1, 1],\n",
       "       [1, 1],\n",
       "       [1, 1],\n",
       "       [1, 1],\n",
       "       [1, 1],\n",
       "       [1, 0],\n",
       "       [1, 1],\n",
       "       [1, 1],\n",
       "       [1, 1],\n",
       "       [1, 1],\n",
       "       [0, 0],\n",
       "       [0, 0],\n",
       "       [0, 1],\n",
       "       [1, 1],\n",
       "       [1, 0],\n",
       "       [1, 1],\n",
       "       [1, 0],\n",
       "       [1, 1],\n",
       "       [1, 1],\n",
       "       [1, 1],\n",
       "       [0, 1],\n",
       "       [1, 1],\n",
       "       [1, 1],\n",
       "       [0, 1],\n",
       "       [0, 1],\n",
       "       [1, 0],\n",
       "       [1, 1],\n",
       "       [1, 1],\n",
       "       [1, 1],\n",
       "       [1, 1],\n",
       "       [1, 1],\n",
       "       [1, 1],\n",
       "       [1, 0],\n",
       "       [1, 1],\n",
       "       [1, 1],\n",
       "       [1, 1]])"
      ]
     },
     "execution_count": 34,
     "metadata": {},
     "output_type": "execute_result"
    }
   ],
   "source": [
    "np.concatenate((y_pred.reshape(len(y_pred),1),y_test.reshape(len(y_test),1)),axis=1)"
   ]
  },
  {
   "cell_type": "markdown",
   "id": "b25bd426",
   "metadata": {
    "papermill": {
     "duration": 0.013275,
     "end_time": "2024-03-15T16:30:24.692919",
     "exception": false,
     "start_time": "2024-03-15T16:30:24.679644",
     "status": "completed"
    },
    "tags": []
   },
   "source": [
    "<h3>Evaluating Metrics of the model</h3>"
   ]
  },
  {
   "cell_type": "code",
   "execution_count": 35,
   "id": "15a4a199",
   "metadata": {
    "execution": {
     "iopub.execute_input": "2024-03-15T16:30:24.722128Z",
     "iopub.status.busy": "2024-03-15T16:30:24.721256Z",
     "iopub.status.idle": "2024-03-15T16:30:24.731577Z",
     "shell.execute_reply": "2024-03-15T16:30:24.730366Z"
    },
    "papermill": {
     "duration": 0.027747,
     "end_time": "2024-03-15T16:30:24.734207",
     "exception": false,
     "start_time": "2024-03-15T16:30:24.706460",
     "status": "completed"
    },
    "tags": []
   },
   "outputs": [
    {
     "data": {
      "text/plain": [
       "array([[ 3, 11],\n",
       "       [ 7, 57]])"
      ]
     },
     "execution_count": 35,
     "metadata": {},
     "output_type": "execute_result"
    }
   ],
   "source": [
    "confusion_matrix(y_true=y_test,y_pred=y_pred)"
   ]
  },
  {
   "cell_type": "code",
   "execution_count": 36,
   "id": "fe0f21df",
   "metadata": {
    "execution": {
     "iopub.execute_input": "2024-03-15T16:30:24.765841Z",
     "iopub.status.busy": "2024-03-15T16:30:24.765332Z",
     "iopub.status.idle": "2024-03-15T16:30:24.774454Z",
     "shell.execute_reply": "2024-03-15T16:30:24.773239Z"
    },
    "papermill": {
     "duration": 0.026922,
     "end_time": "2024-03-15T16:30:24.776759",
     "exception": false,
     "start_time": "2024-03-15T16:30:24.749837",
     "status": "completed"
    },
    "tags": []
   },
   "outputs": [
    {
     "data": {
      "text/plain": [
       "0.7692307692307693"
      ]
     },
     "execution_count": 36,
     "metadata": {},
     "output_type": "execute_result"
    }
   ],
   "source": [
    "accuracy_score(y_true=y_test,y_pred=y_pred)"
   ]
  },
  {
   "cell_type": "code",
   "execution_count": 37,
   "id": "487c4417",
   "metadata": {
    "execution": {
     "iopub.execute_input": "2024-03-15T16:30:24.811299Z",
     "iopub.status.busy": "2024-03-15T16:30:24.810227Z",
     "iopub.status.idle": "2024-03-15T16:30:24.824076Z",
     "shell.execute_reply": "2024-03-15T16:30:24.822611Z"
    },
    "papermill": {
     "duration": 0.035052,
     "end_time": "2024-03-15T16:30:24.827125",
     "exception": false,
     "start_time": "2024-03-15T16:30:24.792073",
     "status": "completed"
    },
    "tags": []
   },
   "outputs": [
    {
     "name": "stdout",
     "output_type": "stream",
     "text": [
      "              precision    recall  f1-score   support\n",
      "\n",
      "           0       0.30      0.21      0.25        14\n",
      "           1       0.84      0.89      0.86        64\n",
      "\n",
      "    accuracy                           0.77        78\n",
      "   macro avg       0.57      0.55      0.56        78\n",
      "weighted avg       0.74      0.77      0.75        78\n",
      "\n"
     ]
    }
   ],
   "source": [
    "print(classification_report(y_true=y_test,y_pred=y_pred))"
   ]
  }
 ],
 "metadata": {
  "kaggle": {
   "accelerator": "none",
   "dataSources": [
    {
     "datasetId": 4527983,
     "sourceId": 7745817,
     "sourceType": "datasetVersion"
    }
   ],
   "dockerImageVersionId": 30664,
   "isGpuEnabled": false,
   "isInternetEnabled": true,
   "language": "python",
   "sourceType": "notebook"
  },
  "kernelspec": {
   "display_name": "Python 3",
   "language": "python",
   "name": "python3"
  },
  "language_info": {
   "codemirror_mode": {
    "name": "ipython",
    "version": 3
   },
   "file_extension": ".py",
   "mimetype": "text/x-python",
   "name": "python",
   "nbconvert_exporter": "python",
   "pygments_lexer": "ipython3",
   "version": "3.12.1"
  },
  "papermill": {
   "default_parameters": {},
   "duration": 7.94926,
   "end_time": "2024-03-15T16:30:25.465519",
   "environment_variables": {},
   "exception": null,
   "input_path": "__notebook__.ipynb",
   "output_path": "__notebook__.ipynb",
   "parameters": {},
   "start_time": "2024-03-15T16:30:17.516259",
   "version": "2.5.0"
  }
 },
 "nbformat": 4,
 "nbformat_minor": 5
}
